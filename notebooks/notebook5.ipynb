{
  "nbformat": 4,
  "nbformat_minor": 0,
  "metadata": {
    "colab": {
      "name": "Copy of notebook5.ipynb",
      "version": "0.3.2",
      "provenance": [],
      "include_colab_link": true
    },
    "kernelspec": {
      "name": "python3",
      "display_name": "Python 3"
    }
  },
  "cells": [
    {
      "cell_type": "markdown",
      "metadata": {
        "id": "view-in-github",
        "colab_type": "text"
      },
      "source": [
        "<a href=\"https://colab.research.google.com/github/bcaffo/ds4bme_intro/blob/master/notebooks/notebook5.ipynb\" target=\"_parent\"><img src=\"https://colab.research.google.com/assets/colab-badge.svg\" alt=\"Open In Colab\"/></a>"
      ]
    },
    {
      "cell_type": "markdown",
      "metadata": {
        "id": "rIzXXVGuR9YM",
        "colab_type": "text"
      },
      "source": [
        "# Linear separable models\n",
        "\n",
        "We've now covered two ways to do prediction with a single variable, classification using logistic regression and prediction using a line and least squares. What if we have several predictiors? \n",
        "\n",
        "In both the logistic and linear regression models, we had a linear predictor, specifically, \n",
        "$$\n",
        "\\eta_i = \\beta_0 + \\beta_1 x_i.\n",
        "$$\n",
        "In the continuous case, we were modeling the expected value of the outcomes as linear. In the binary case, we were assuming that the naturual logarithm of the odds of a 1 outcome was linear. \n",
        "\n",
        "To estimate the unknown parameters, $\\beta_0$ and $\\beta_1$ we minimized\n",
        "$$\n",
        "\\sum_{i=1}^n || y_i - \\eta_i||^2 \n",
        "$$\n",
        "in the linear case and \n",
        "$$\n",
        "-\\sum_{i=1}^n \\left[\n",
        "  Y_i \\eta_i + \\log\\left\\{\\frac{1}{1 + e^\\eta_i} \\right\\} \\right].\n",
        "$$\n",
        "in the binary outcome case (where, recall, $\\eta_i$ depends on the parameters). \n",
        "\n",
        "We can easily extend these models to multiple predictors by assuming that the impact of the multiple predictors is linear and separable. That is,\n",
        "\n",
        "$$\n",
        "\\eta_i = \\beta_0 + \\beta_1 x_{1i} + \\beta_2 x_{2i} + \\ldots \\beta_{p-1} x_{p-1,i}\n",
        "$$\n",
        "\n",
        "If we think about this as vectors and matrices, we obtain\n",
        "\n",
        "$$\n",
        "\\eta = X \\beta\n",
        "$$\n",
        "where $\\eta$ is an $n \\times 1$ vector, $X$ is an $n \\times p$ matrix with $i,j$ entry $x_{ij}$ and $\\beta$ is a $p\\times 1$ vector with entries $\\beta_j$. \n"
      ]
    },
    {
      "cell_type": "markdown",
      "metadata": {
        "id": "ApSoCaMXb4x-",
        "colab_type": "text"
      },
      "source": [
        "Let's look at the voxel-level data that we've been working with. First let's load the data."
      ]
    },
    {
      "cell_type": "code",
      "metadata": {
        "id": "GMMLqAkYRxb5",
        "colab_type": "code",
        "colab": {}
      },
      "source": [
        "import numpy as np\n",
        "import pandas as pd\n",
        "import seaborn as sns\n",
        "import matplotlib.pyplot as plt\n",
        "import sklearn.linear_model as lm\n",
        "## this sets some style parameters\n",
        "sns.set()\n",
        "\n",
        "## Download in the data if it's not already there\n",
        "! if [ ! -e oasis.csv ]; \\\n",
        "then wget https://raw.githubusercontent.com/bcaffo/ds4bme_intro/master/data/oasis.csv; \\\n",
        "fi;\n",
        "\n",
        "## Read in the data and display a few rows\n",
        "dat = pd.read_csv(\"oasis.csv\")"
      ],
      "execution_count": 0,
      "outputs": []
    },
    {
      "cell_type": "markdown",
      "metadata": {
        "id": "HUih09BMdi9_",
        "colab_type": "text"
      },
      "source": [
        "Let's first try to fit the proton density data from the other imaging data. I'm going to use the `statsmodels` version of linear models since it has a nice format for dataframes."
      ]
    },
    {
      "cell_type": "code",
      "metadata": {
        "id": "Onw6CyaCdrtz",
        "colab_type": "code",
        "colab": {}
      },
      "source": [
        "import statsmodels.api as sm\n",
        "import statsmodels.formula.api as smf\n",
        "trainFraction = .75\n",
        "\n",
        "sample = np.random.uniform(size = 100) < trainFraction\n",
        "trainingDat = dat[sample]\n",
        "testingDat = dat[~sample]"
      ],
      "execution_count": 0,
      "outputs": []
    },
    {
      "cell_type": "code",
      "metadata": {
        "id": "fDJOnSsxe2N5",
        "colab_type": "code",
        "outputId": "68b77524-5904-4a9f-aaa9-9f3f6ffbf895",
        "colab": {
          "base_uri": "https://localhost:8080/",
          "height": 507
        }
      },
      "source": [
        "results = smf.ols('PD ~ FLAIR + T1 + T2  + FLAIR_10 + T1_10 + T2_10 + FLAIR_20', data = trainingDat).fit()\n",
        "print(results.summary2())"
      ],
      "execution_count": 0,
      "outputs": [
        {
          "output_type": "stream",
          "text": [
            "                 Results: Ordinary least squares\n",
            "=================================================================\n",
            "Model:              OLS              Adj. R-squared:     0.745   \n",
            "Dependent Variable: PD               AIC:                74.4416 \n",
            "Date:               2019-08-08 02:01 BIC:                92.7653 \n",
            "No. Observations:   73               Log-Likelihood:     -29.221 \n",
            "Df Model:           7                F-statistic:        31.05   \n",
            "Df Residuals:       65               Prob (F-statistic): 2.04e-18\n",
            "R-squared:          0.770            Scale:              0.14643 \n",
            "------------------------------------------------------------------\n",
            "                Coef.   Std.Err.     t     P>|t|    [0.025  0.975]\n",
            "------------------------------------------------------------------\n",
            "Intercept       0.2671    0.1459   1.8310  0.0717  -0.0242  0.5585\n",
            "FLAIR          -0.0223    0.0897  -0.2489  0.8042  -0.2014  0.1568\n",
            "T1             -0.1452    0.0894  -1.6233  0.1094  -0.3238  0.0334\n",
            "T2              0.6526    0.0852   7.6588  0.0000   0.4824  0.8227\n",
            "FLAIR_10       -0.5465    0.3582  -1.5256  0.1320  -1.2618  0.1689\n",
            "T1_10           0.0672    0.1871   0.3591  0.7207  -0.3065  0.4409\n",
            "T2_10          -0.0668    0.3389  -0.1972  0.8443  -0.7436  0.6100\n",
            "FLAIR_20        2.4969    0.7624   3.2752  0.0017   0.9744  4.0195\n",
            "-----------------------------------------------------------------\n",
            "Omnibus:              1.683        Durbin-Watson:           2.261\n",
            "Prob(Omnibus):        0.431        Jarque-Bera (JB):        1.065\n",
            "Skew:                 0.035        Prob(JB):                0.587\n",
            "Kurtosis:             3.587        Condition No.:           40   \n",
            "=================================================================\n",
            "\n"
          ],
          "name": "stdout"
        }
      ]
    },
    {
      "cell_type": "markdown",
      "metadata": {
        "id": "iaXw2nFg6UoO",
        "colab_type": "text"
      },
      "source": [
        "## Aside different python packages\n",
        "\n",
        "So far we've explored several plotting libraries including: default pandas methods, matplotlib, seaborn and plotly. We've also looked at several fitting libraries including to some extent numpy, but especially scikitlearn and statsmodels. What's the difference? Well, these packages are all mantained by different people and have different features and goals. For example, scikitlearn is more expansive than statsmodels, but statsmodels functions more like one is used to with statistical output. Matplotlib is very expansive, but seaborn has nicer default options and is a little easier. So, when doing data science with python, one has to get used to trying out a few packages, weighing the cost and benefits of each, and picking one. "
      ]
    },
    {
      "cell_type": "code",
      "metadata": {
        "id": "7UrWqsZAfF1u",
        "colab_type": "code",
        "colab": {}
      },
      "source": [
        ""
      ],
      "execution_count": 0,
      "outputs": []
    }
  ]
}