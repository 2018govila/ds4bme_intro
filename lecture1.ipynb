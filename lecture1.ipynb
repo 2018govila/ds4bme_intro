{
  "nbformat": 4,
  "nbformat_minor": 0,
  "metadata": {
    "colab": {
      "name": "testingColab.ipynb",
      "version": "0.3.2",
      "provenance": [],
      "collapsed_sections": [],
      "toc_visible": true
    },
    "kernelspec": {
      "name": "python3",
      "display_name": "Python 3"
    }
  },
  "cells": [
    {
      "cell_type": "markdown",
      "metadata": {
        "id": "G1yCZo89bYXg",
        "colab_type": "text"
      },
      "source": [
        "# Introduction\n",
        "This is a colab notebook. It is a special case of a ipython notebook in a specific interface. This is how you will do your analysis for this class. It requires a google account and is an example of an ipython notebook interface. \n",
        "\n",
        "This is an example of a text block. To add text blocks, simply click the \"+ Text\" button on the bar above the notebook. \n",
        "\n",
        "The code is marked up in a markup language called \"Markdown\". You can find a guide to markdown syntax here: [https://www.markdownguide.org/cheat-sheet/](https://www.markdownguide.org/cheat-sheet/).\n",
        "\n",
        "Also, the [colab documentation](https://colab.research.google.com/notebooks/markdown_guide.ipynb) is useful.\n",
        "\n",
        "Markdown should take you only a few moments to learn. It is as easy as a markup langauge can be made.\n",
        "\n"
      ]
    },
    {
      "cell_type": "markdown",
      "metadata": {
        "id": "97GsGa5ihkOw",
        "colab_type": "text"
      },
      "source": [
        "# Imports and files\n",
        "The first thing we'll try is loading some data and plotting it. To do this, we'll need some packages. Let's load up pandas, a package for data management, and matplotlib. The python command for this is `import`.\n"
      ]
    },
    {
      "cell_type": "code",
      "metadata": {
        "colab_type": "code",
        "id": "ophPuMwbnOf1",
        "colab": {}
      },
      "source": [
        "import pandas as pd\n",
        "import matplotlib as mpl"
      ],
      "execution_count": 0,
      "outputs": []
    },
    {
      "cell_type": "markdown",
      "metadata": {
        "id": "gb8k28AbbXs4",
        "colab_type": "text"
      },
      "source": [
        "If you want to mount your google drive, do this. \n",
        "\n",
        "```\n",
        "from google.colab import drive\n",
        "drive.mount('/content/drive/')\n",
        "```\n",
        "\n",
        "We won't do this here, since we'll download our data from github."
      ]
    },
    {
      "cell_type": "markdown",
      "metadata": {
        "id": "TUpuJrYmlx74",
        "colab_type": "text"
      },
      "source": [
        "To execute unix commands, do `!command`. For example, here I'm listing out the contents of the connected runtime for this notebook. For example, here I'm running the `ls` command for listing out the contents of a unix directory."
      ]
    },
    {
      "cell_type": "code",
      "metadata": {
        "id": "hTz0Zhs9lWWT",
        "colab_type": "code",
        "outputId": "5333f5cf-10cc-4f60-9977-e83d3e38140e",
        "colab": {
          "base_uri": "https://localhost:8080/",
          "height": 53
        }
      },
      "source": [
        "!ls"
      ],
      "execution_count": 38,
      "outputs": [
        {
          "output_type": "stream",
          "text": [
            "kirby127a_3_1_ax_283Labels_M2_corrected_stats.csv    sample_data\n",
            "kirby127a_3_1_ax_283Labels_M2_corrected_stats.csv.1\n"
          ],
          "name": "stdout"
        }
      ]
    },
    {
      "cell_type": "markdown",
      "metadata": {
        "id": "BrcOluJ1mwIv",
        "colab_type": "text"
      },
      "source": [
        "Let's download the data. Or you could upload the data to google drive or directly upload to colab. "
      ]
    },
    {
      "cell_type": "code",
      "metadata": {
        "id": "ZtHYtT8ol_8t",
        "colab_type": "code",
        "outputId": "e0651745-2972-40e7-8f53-5e691638d292",
        "colab": {
          "base_uri": "https://localhost:8080/",
          "height": 237
        }
      },
      "source": [
        "!wget https://raw.githubusercontent.com/bcaffo/ds4bme_intro/master/data/kirby127a_3_1_ax_283Labels_M2_corrected_stats.csv"
      ],
      "execution_count": 39,
      "outputs": [
        {
          "output_type": "stream",
          "text": [
            "--2019-08-02 19:07:18--  https://raw.githubusercontent.com/bcaffo/ds4bme_intro/master/data/kirby127a_3_1_ax_283Labels_M2_corrected_stats.csv\n",
            "Resolving raw.githubusercontent.com (raw.githubusercontent.com)... 151.101.0.133, 151.101.64.133, 151.101.128.133, ...\n",
            "Connecting to raw.githubusercontent.com (raw.githubusercontent.com)|151.101.0.133|:443... connected.\n",
            "HTTP request sent, awaiting response... 200 OK\n",
            "Length: 61456 (60K) [text/plain]\n",
            "Saving to: ‘kirby127a_3_1_ax_283Labels_M2_corrected_stats.csv.2’\n",
            "\n",
            "\r          kirby127a   0%[                    ]       0  --.-KB/s               \rkirby127a_3_1_ax_28 100%[===================>]  60.02K  --.-KB/s    in 0.01s   \n",
            "\n",
            "2019-08-02 19:07:19 (4.13 MB/s) - ‘kirby127a_3_1_ax_283Labels_M2_corrected_stats.csv.2’ saved [61456/61456]\n",
            "\n"
          ],
          "name": "stdout"
        }
      ]
    },
    {
      "cell_type": "markdown",
      "metadata": {
        "id": "oafyXjCZnYvY",
        "colab_type": "text"
      },
      "source": [
        "# Reading data in with pandas"
      ]
    },
    {
      "cell_type": "markdown",
      "metadata": {
        "id": "x-FYGI0_5mQZ",
        "colab_type": "text"
      },
      "source": [
        "Let's now read in an MRICloud dataset using pandas. We want to use the function `read_csv` within pandas. Notice we imported pandas `as pd` so the command is `pd.read_csv`. "
      ]
    },
    {
      "cell_type": "code",
      "metadata": {
        "id": "vzhyTYxbm_m3",
        "colab_type": "code",
        "colab": {}
      },
      "source": [
        "df = pd.read_csv(\"/content/kirby127a_3_1_ax_283Labels_M2_corrected_stats.csv\")"
      ],
      "execution_count": 0,
      "outputs": []
    },
    {
      "cell_type": "markdown",
      "metadata": {
        "id": "TXqLH6LK6Umh",
        "colab_type": "text"
      },
      "source": [
        "Let's look at the first 4 rows of our dataframe. The object `dataset` is a `pandas` object with associated methods. One is `head` which allows one to see the first few rows of data. "
      ]
    },
    {
      "cell_type": "code",
      "metadata": {
        "id": "5ljATgC_50nX",
        "colab_type": "code",
        "outputId": "3e66a35d-2500-4f5a-ed2b-9c315121ba70",
        "colab": {
          "base_uri": "https://localhost:8080/",
          "height": 209
        }
      },
      "source": [
        "df.head(4)"
      ],
      "execution_count": 41,
      "outputs": [
        {
          "output_type": "execute_result",
          "data": {
            "text/html": [
              "<div>\n",
              "<style scoped>\n",
              "    .dataframe tbody tr th:only-of-type {\n",
              "        vertical-align: middle;\n",
              "    }\n",
              "\n",
              "    .dataframe tbody tr th {\n",
              "        vertical-align: top;\n",
              "    }\n",
              "\n",
              "    .dataframe thead th {\n",
              "        text-align: right;\n",
              "    }\n",
              "</style>\n",
              "<table border=\"1\" class=\"dataframe\">\n",
              "  <thead>\n",
              "    <tr style=\"text-align: right;\">\n",
              "      <th></th>\n",
              "      <th>Unnamed: 0</th>\n",
              "      <th>rawid</th>\n",
              "      <th>roi</th>\n",
              "      <th>volume</th>\n",
              "      <th>min</th>\n",
              "      <th>max</th>\n",
              "      <th>mean</th>\n",
              "      <th>std</th>\n",
              "      <th>type</th>\n",
              "      <th>level</th>\n",
              "    </tr>\n",
              "  </thead>\n",
              "  <tbody>\n",
              "    <tr>\n",
              "      <th>0</th>\n",
              "      <td>1</td>\n",
              "      <td>kirby127a_3_1_ax.img</td>\n",
              "      <td>Telencephalon_L</td>\n",
              "      <td>531111</td>\n",
              "      <td>0</td>\n",
              "      <td>374</td>\n",
              "      <td>128.3013</td>\n",
              "      <td>51.8593</td>\n",
              "      <td>1</td>\n",
              "      <td>1</td>\n",
              "    </tr>\n",
              "    <tr>\n",
              "      <th>1</th>\n",
              "      <td>2</td>\n",
              "      <td>kirby127a_3_1_ax.img</td>\n",
              "      <td>Telencephalon_R</td>\n",
              "      <td>543404</td>\n",
              "      <td>0</td>\n",
              "      <td>300</td>\n",
              "      <td>135.0683</td>\n",
              "      <td>53.6471</td>\n",
              "      <td>1</td>\n",
              "      <td>1</td>\n",
              "    </tr>\n",
              "    <tr>\n",
              "      <th>2</th>\n",
              "      <td>3</td>\n",
              "      <td>kirby127a_3_1_ax.img</td>\n",
              "      <td>Diencephalon_L</td>\n",
              "      <td>9683</td>\n",
              "      <td>15</td>\n",
              "      <td>295</td>\n",
              "      <td>193.5488</td>\n",
              "      <td>32.2733</td>\n",
              "      <td>1</td>\n",
              "      <td>1</td>\n",
              "    </tr>\n",
              "    <tr>\n",
              "      <th>3</th>\n",
              "      <td>4</td>\n",
              "      <td>kirby127a_3_1_ax.img</td>\n",
              "      <td>Diencephalon_R</td>\n",
              "      <td>9678</td>\n",
              "      <td>10</td>\n",
              "      <td>335</td>\n",
              "      <td>193.7051</td>\n",
              "      <td>32.7869</td>\n",
              "      <td>1</td>\n",
              "      <td>1</td>\n",
              "    </tr>\n",
              "  </tbody>\n",
              "</table>\n",
              "</div>"
            ],
            "text/plain": [
              "   Unnamed: 0                 rawid              roi  ...      std  type  level\n",
              "0           1  kirby127a_3_1_ax.img  Telencephalon_L  ...  51.8593     1      1\n",
              "1           2  kirby127a_3_1_ax.img  Telencephalon_R  ...  53.6471     1      1\n",
              "2           3  kirby127a_3_1_ax.img   Diencephalon_L  ...  32.2733     1      1\n",
              "3           4  kirby127a_3_1_ax.img   Diencephalon_R  ...  32.7869     1      1\n",
              "\n",
              "[4 rows x 10 columns]"
            ]
          },
          "metadata": {
            "tags": []
          },
          "execution_count": 41
        }
      ]
    },
    {
      "cell_type": "markdown",
      "metadata": {
        "id": "xM6krqI2ndye",
        "colab_type": "text"
      },
      "source": [
        "# Working with the data"
      ]
    },
    {
      "cell_type": "markdown",
      "metadata": {
        "id": "cHt4jCNWcAv2",
        "colab_type": "text"
      },
      "source": [
        "Let's get rid of the column `rawid` and the unnamed column since they're kind of useless for today's lecture. Also let's work with only the volume."
      ]
    },
    {
      "cell_type": "code",
      "metadata": {
        "id": "VV0BRynMcAHr",
        "colab_type": "code",
        "colab": {}
      },
      "source": [
        "df = df.drop(['Unnamed: 0', 'rawid', 'min', 'max', 'mean', 'std'], axis = 1)"
      ],
      "execution_count": 0,
      "outputs": []
    },
    {
      "cell_type": "markdown",
      "metadata": {
        "id": "fRL2IS3RgpRW",
        "colab_type": "text"
      },
      "source": [
        "Now let's create a column called `icv` for intra-cranial volume. ICV is defined as the summ of the Type I Level 1 structures and cerebrospinal fluid. For the rest of this lecture, we're just going to look at this type and level."
      ]
    },
    {
      "cell_type": "code",
      "metadata": {
        "id": "vpFUqDK8hAeG",
        "colab_type": "code",
        "colab": {
          "base_uri": "https://localhost:8080/",
          "height": 296
        },
        "outputId": "289cd4ed-d518-4150-d540-b5acfb762922"
      },
      "source": [
        "## Extract the Type 1 Level 1 data\n",
        "t1l1 = df.loc[(df['type'] == 1) & (df['level'] == 1)]\n",
        "## Create a new column based on ICV\n",
        "t1l1 = t1l1.assign(icv = sum(t1l1['volume']))\n",
        "t1l1"
      ],
      "execution_count": 43,
      "outputs": [
        {
          "output_type": "execute_result",
          "data": {
            "text/html": [
              "<div>\n",
              "<style scoped>\n",
              "    .dataframe tbody tr th:only-of-type {\n",
              "        vertical-align: middle;\n",
              "    }\n",
              "\n",
              "    .dataframe tbody tr th {\n",
              "        vertical-align: top;\n",
              "    }\n",
              "\n",
              "    .dataframe thead th {\n",
              "        text-align: right;\n",
              "    }\n",
              "</style>\n",
              "<table border=\"1\" class=\"dataframe\">\n",
              "  <thead>\n",
              "    <tr style=\"text-align: right;\">\n",
              "      <th></th>\n",
              "      <th>roi</th>\n",
              "      <th>volume</th>\n",
              "      <th>type</th>\n",
              "      <th>level</th>\n",
              "      <th>icv</th>\n",
              "    </tr>\n",
              "  </thead>\n",
              "  <tbody>\n",
              "    <tr>\n",
              "      <th>0</th>\n",
              "      <td>Telencephalon_L</td>\n",
              "      <td>531111</td>\n",
              "      <td>1</td>\n",
              "      <td>1</td>\n",
              "      <td>1378295</td>\n",
              "    </tr>\n",
              "    <tr>\n",
              "      <th>1</th>\n",
              "      <td>Telencephalon_R</td>\n",
              "      <td>543404</td>\n",
              "      <td>1</td>\n",
              "      <td>1</td>\n",
              "      <td>1378295</td>\n",
              "    </tr>\n",
              "    <tr>\n",
              "      <th>2</th>\n",
              "      <td>Diencephalon_L</td>\n",
              "      <td>9683</td>\n",
              "      <td>1</td>\n",
              "      <td>1</td>\n",
              "      <td>1378295</td>\n",
              "    </tr>\n",
              "    <tr>\n",
              "      <th>3</th>\n",
              "      <td>Diencephalon_R</td>\n",
              "      <td>9678</td>\n",
              "      <td>1</td>\n",
              "      <td>1</td>\n",
              "      <td>1378295</td>\n",
              "    </tr>\n",
              "    <tr>\n",
              "      <th>4</th>\n",
              "      <td>Mesencephalon</td>\n",
              "      <td>10268</td>\n",
              "      <td>1</td>\n",
              "      <td>1</td>\n",
              "      <td>1378295</td>\n",
              "    </tr>\n",
              "    <tr>\n",
              "      <th>5</th>\n",
              "      <td>Metencephalon</td>\n",
              "      <td>159402</td>\n",
              "      <td>1</td>\n",
              "      <td>1</td>\n",
              "      <td>1378295</td>\n",
              "    </tr>\n",
              "    <tr>\n",
              "      <th>6</th>\n",
              "      <td>Myelencephalon</td>\n",
              "      <td>4973</td>\n",
              "      <td>1</td>\n",
              "      <td>1</td>\n",
              "      <td>1378295</td>\n",
              "    </tr>\n",
              "    <tr>\n",
              "      <th>7</th>\n",
              "      <td>CSF</td>\n",
              "      <td>109776</td>\n",
              "      <td>1</td>\n",
              "      <td>1</td>\n",
              "      <td>1378295</td>\n",
              "    </tr>\n",
              "  </tbody>\n",
              "</table>\n",
              "</div>"
            ],
            "text/plain": [
              "               roi  volume  type  level      icv\n",
              "0  Telencephalon_L  531111     1      1  1378295\n",
              "1  Telencephalon_R  543404     1      1  1378295\n",
              "2   Diencephalon_L    9683     1      1  1378295\n",
              "3   Diencephalon_R    9678     1      1  1378295\n",
              "4    Mesencephalon   10268     1      1  1378295\n",
              "5    Metencephalon  159402     1      1  1378295\n",
              "6   Myelencephalon    4973     1      1  1378295\n",
              "7              CSF  109776     1      1  1378295"
            ]
          },
          "metadata": {
            "tags": []
          },
          "execution_count": 43
        }
      ]
    },
    {
      "cell_type": "markdown",
      "metadata": {
        "id": "AMSOSF0hqHfJ",
        "colab_type": "text"
      },
      "source": [
        "Now the TBV is defined as the sum of all columns except CSF. "
      ]
    },
    {
      "cell_type": "code",
      "metadata": {
        "id": "7tjWllGmqG1A",
        "colab_type": "code",
        "colab": {
          "base_uri": "https://localhost:8080/",
          "height": 296
        },
        "outputId": "b46afa98-354f-43b6-ae04-42b53a6f943b"
      },
      "source": [
        "t1l1 = t1l1.assign(tbv = sum(t1l1['volume'][(t1l1['roi'] != 'CSF')]))\n",
        "t1l1"
      ],
      "execution_count": 44,
      "outputs": [
        {
          "output_type": "execute_result",
          "data": {
            "text/html": [
              "<div>\n",
              "<style scoped>\n",
              "    .dataframe tbody tr th:only-of-type {\n",
              "        vertical-align: middle;\n",
              "    }\n",
              "\n",
              "    .dataframe tbody tr th {\n",
              "        vertical-align: top;\n",
              "    }\n",
              "\n",
              "    .dataframe thead th {\n",
              "        text-align: right;\n",
              "    }\n",
              "</style>\n",
              "<table border=\"1\" class=\"dataframe\">\n",
              "  <thead>\n",
              "    <tr style=\"text-align: right;\">\n",
              "      <th></th>\n",
              "      <th>roi</th>\n",
              "      <th>volume</th>\n",
              "      <th>type</th>\n",
              "      <th>level</th>\n",
              "      <th>icv</th>\n",
              "      <th>tbv</th>\n",
              "    </tr>\n",
              "  </thead>\n",
              "  <tbody>\n",
              "    <tr>\n",
              "      <th>0</th>\n",
              "      <td>Telencephalon_L</td>\n",
              "      <td>531111</td>\n",
              "      <td>1</td>\n",
              "      <td>1</td>\n",
              "      <td>1378295</td>\n",
              "      <td>1268519</td>\n",
              "    </tr>\n",
              "    <tr>\n",
              "      <th>1</th>\n",
              "      <td>Telencephalon_R</td>\n",
              "      <td>543404</td>\n",
              "      <td>1</td>\n",
              "      <td>1</td>\n",
              "      <td>1378295</td>\n",
              "      <td>1268519</td>\n",
              "    </tr>\n",
              "    <tr>\n",
              "      <th>2</th>\n",
              "      <td>Diencephalon_L</td>\n",
              "      <td>9683</td>\n",
              "      <td>1</td>\n",
              "      <td>1</td>\n",
              "      <td>1378295</td>\n",
              "      <td>1268519</td>\n",
              "    </tr>\n",
              "    <tr>\n",
              "      <th>3</th>\n",
              "      <td>Diencephalon_R</td>\n",
              "      <td>9678</td>\n",
              "      <td>1</td>\n",
              "      <td>1</td>\n",
              "      <td>1378295</td>\n",
              "      <td>1268519</td>\n",
              "    </tr>\n",
              "    <tr>\n",
              "      <th>4</th>\n",
              "      <td>Mesencephalon</td>\n",
              "      <td>10268</td>\n",
              "      <td>1</td>\n",
              "      <td>1</td>\n",
              "      <td>1378295</td>\n",
              "      <td>1268519</td>\n",
              "    </tr>\n",
              "    <tr>\n",
              "      <th>5</th>\n",
              "      <td>Metencephalon</td>\n",
              "      <td>159402</td>\n",
              "      <td>1</td>\n",
              "      <td>1</td>\n",
              "      <td>1378295</td>\n",
              "      <td>1268519</td>\n",
              "    </tr>\n",
              "    <tr>\n",
              "      <th>6</th>\n",
              "      <td>Myelencephalon</td>\n",
              "      <td>4973</td>\n",
              "      <td>1</td>\n",
              "      <td>1</td>\n",
              "      <td>1378295</td>\n",
              "      <td>1268519</td>\n",
              "    </tr>\n",
              "    <tr>\n",
              "      <th>7</th>\n",
              "      <td>CSF</td>\n",
              "      <td>109776</td>\n",
              "      <td>1</td>\n",
              "      <td>1</td>\n",
              "      <td>1378295</td>\n",
              "      <td>1268519</td>\n",
              "    </tr>\n",
              "  </tbody>\n",
              "</table>\n",
              "</div>"
            ],
            "text/plain": [
              "               roi  volume  type  level      icv      tbv\n",
              "0  Telencephalon_L  531111     1      1  1378295  1268519\n",
              "1  Telencephalon_R  543404     1      1  1378295  1268519\n",
              "2   Diencephalon_L    9683     1      1  1378295  1268519\n",
              "3   Diencephalon_R    9678     1      1  1378295  1268519\n",
              "4    Mesencephalon   10268     1      1  1378295  1268519\n",
              "5    Metencephalon  159402     1      1  1378295  1268519\n",
              "6   Myelencephalon    4973     1      1  1378295  1268519\n",
              "7              CSF  109776     1      1  1378295  1268519"
            ]
          },
          "metadata": {
            "tags": []
          },
          "execution_count": 44
        }
      ]
    },
    {
      "cell_type": "markdown",
      "metadata": {
        "id": "CubwKkiEo_Av",
        "colab_type": "text"
      },
      "source": [
        "Let's look at brain composition."
      ]
    },
    {
      "cell_type": "code",
      "metadata": {
        "id": "8O_8voB_o-SP",
        "colab_type": "code",
        "colab": {
          "base_uri": "https://localhost:8080/",
          "height": 296
        },
        "outputId": "d6ddca72-9795-484c-c216-c78385154a30"
      },
      "source": [
        "t1l1.assign(comp = lambda x: x.volume / x.tbv)"
      ],
      "execution_count": 48,
      "outputs": [
        {
          "output_type": "execute_result",
          "data": {
            "text/html": [
              "<div>\n",
              "<style scoped>\n",
              "    .dataframe tbody tr th:only-of-type {\n",
              "        vertical-align: middle;\n",
              "    }\n",
              "\n",
              "    .dataframe tbody tr th {\n",
              "        vertical-align: top;\n",
              "    }\n",
              "\n",
              "    .dataframe thead th {\n",
              "        text-align: right;\n",
              "    }\n",
              "</style>\n",
              "<table border=\"1\" class=\"dataframe\">\n",
              "  <thead>\n",
              "    <tr style=\"text-align: right;\">\n",
              "      <th></th>\n",
              "      <th>roi</th>\n",
              "      <th>volume</th>\n",
              "      <th>type</th>\n",
              "      <th>level</th>\n",
              "      <th>icv</th>\n",
              "      <th>tbv</th>\n",
              "      <th>comp</th>\n",
              "    </tr>\n",
              "  </thead>\n",
              "  <tbody>\n",
              "    <tr>\n",
              "      <th>0</th>\n",
              "      <td>Telencephalon_L</td>\n",
              "      <td>531111</td>\n",
              "      <td>1</td>\n",
              "      <td>1</td>\n",
              "      <td>1378295</td>\n",
              "      <td>1268519</td>\n",
              "      <td>0.418686</td>\n",
              "    </tr>\n",
              "    <tr>\n",
              "      <th>1</th>\n",
              "      <td>Telencephalon_R</td>\n",
              "      <td>543404</td>\n",
              "      <td>1</td>\n",
              "      <td>1</td>\n",
              "      <td>1378295</td>\n",
              "      <td>1268519</td>\n",
              "      <td>0.428377</td>\n",
              "    </tr>\n",
              "    <tr>\n",
              "      <th>2</th>\n",
              "      <td>Diencephalon_L</td>\n",
              "      <td>9683</td>\n",
              "      <td>1</td>\n",
              "      <td>1</td>\n",
              "      <td>1378295</td>\n",
              "      <td>1268519</td>\n",
              "      <td>0.007633</td>\n",
              "    </tr>\n",
              "    <tr>\n",
              "      <th>3</th>\n",
              "      <td>Diencephalon_R</td>\n",
              "      <td>9678</td>\n",
              "      <td>1</td>\n",
              "      <td>1</td>\n",
              "      <td>1378295</td>\n",
              "      <td>1268519</td>\n",
              "      <td>0.007629</td>\n",
              "    </tr>\n",
              "    <tr>\n",
              "      <th>4</th>\n",
              "      <td>Mesencephalon</td>\n",
              "      <td>10268</td>\n",
              "      <td>1</td>\n",
              "      <td>1</td>\n",
              "      <td>1378295</td>\n",
              "      <td>1268519</td>\n",
              "      <td>0.008094</td>\n",
              "    </tr>\n",
              "    <tr>\n",
              "      <th>5</th>\n",
              "      <td>Metencephalon</td>\n",
              "      <td>159402</td>\n",
              "      <td>1</td>\n",
              "      <td>1</td>\n",
              "      <td>1378295</td>\n",
              "      <td>1268519</td>\n",
              "      <td>0.125660</td>\n",
              "    </tr>\n",
              "    <tr>\n",
              "      <th>6</th>\n",
              "      <td>Myelencephalon</td>\n",
              "      <td>4973</td>\n",
              "      <td>1</td>\n",
              "      <td>1</td>\n",
              "      <td>1378295</td>\n",
              "      <td>1268519</td>\n",
              "      <td>0.003920</td>\n",
              "    </tr>\n",
              "    <tr>\n",
              "      <th>7</th>\n",
              "      <td>CSF</td>\n",
              "      <td>109776</td>\n",
              "      <td>1</td>\n",
              "      <td>1</td>\n",
              "      <td>1378295</td>\n",
              "      <td>1268519</td>\n",
              "      <td>0.086539</td>\n",
              "    </tr>\n",
              "  </tbody>\n",
              "</table>\n",
              "</div>"
            ],
            "text/plain": [
              "               roi  volume  type  level      icv      tbv      comp\n",
              "0  Telencephalon_L  531111     1      1  1378295  1268519  0.418686\n",
              "1  Telencephalon_R  543404     1      1  1378295  1268519  0.428377\n",
              "2   Diencephalon_L    9683     1      1  1378295  1268519  0.007633\n",
              "3   Diencephalon_R    9678     1      1  1378295  1268519  0.007629\n",
              "4    Mesencephalon   10268     1      1  1378295  1268519  0.008094\n",
              "5    Metencephalon  159402     1      1  1378295  1268519  0.125660\n",
              "6   Myelencephalon    4973     1      1  1378295  1268519  0.003920\n",
              "7              CSF  109776     1      1  1378295  1268519  0.086539"
            ]
          },
          "metadata": {
            "tags": []
          },
          "execution_count": 48
        }
      ]
    }
  ]
}